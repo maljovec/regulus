{
 "cells": [
  {
   "cell_type": "code",
   "execution_count": 1,
   "metadata": {},
   "outputs": [],
   "source": [
    "from ipykernel.comm import Comm\n",
    "def on_comm_opened(comm, msg):\n",
    "    print('comm opened', comm, msg)\n",
    "ip = get_ipython()\n",
    "kernel = ip.kernel\n",
    "kernel.comm_manager.register_target('jupyter.regulus', on_comm_opened)"
   ]
  },
  {
   "cell_type": "code",
   "execution_count": 4,
   "metadata": {},
   "outputs": [
    {
     "data": {
      "text/plain": [
       "<ipykernel.comm.comm.Comm at 0x10e954ac8>"
      ]
     },
     "execution_count": 4,
     "metadata": {},
     "output_type": "execute_result"
    }
   ],
   "source": [
    "opts = dict(target_name=\"jupyter.regulus\")\n",
    "Comm(**opts)"
   ]
  },
  {
   "cell_type": "code",
   "execution_count": 6,
   "metadata": {},
   "outputs": [
    {
     "name": "stdout",
     "output_type": "stream",
     "text": [
      "Untitled.ipynb   \u001b[34mignore\u001b[m\u001b[m           package.json     test.ipynb\r\n",
      "Untitled11.ipynb \u001b[34mlib\u001b[m\u001b[m              \u001b[34msrc\u001b[m\u001b[m              tsconfig.json\r\n",
      "Untitled12.ipynb \u001b[34mnode_modules\u001b[m\u001b[m     \u001b[34mstyle\u001b[m\u001b[m\r\n"
     ]
    }
   ],
   "source": [
    "!ls"
   ]
  },
  {
   "cell_type": "code",
   "execution_count": null,
   "metadata": {},
   "outputs": [],
   "source": []
  }
 ],
 "metadata": {
  "kernelspec": {
   "display_name": "Python 3",
   "language": "python",
   "name": "python3"
  },
  "language_info": {
   "codemirror_mode": {
    "name": "ipython",
    "version": 3
   },
   "file_extension": ".py",
   "mimetype": "text/x-python",
   "name": "python",
   "nbconvert_exporter": "python",
   "pygments_lexer": "ipython3",
   "version": "3.6.2"
  }
 },
 "nbformat": 4,
 "nbformat_minor": 2
}
